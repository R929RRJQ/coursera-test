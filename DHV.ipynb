{
  "nbformat": 4,
  "nbformat_minor": 0,
  "metadata": {
    "colab": {
      "provenance": [],
      "authorship_tag": "ABX9TyPW9TcXUorSkM7s9ybxDHK+",
      "include_colab_link": true
    },
    "kernelspec": {
      "name": "ir",
      "display_name": "R"
    },
    "language_info": {
      "name": "R"
    }
  },
  "cells": [
    {
      "cell_type": "markdown",
      "metadata": {
        "id": "view-in-github",
        "colab_type": "text"
      },
      "source": [
        "<a href=\"https://colab.research.google.com/github/R929RRJQ/coursera-test/blob/main/DHV.ipynb\" target=\"_parent\"><img src=\"https://colab.research.google.com/assets/colab-badge.svg\" alt=\"Open In Colab\"/></a>"
      ]
    },
    {
      "cell_type": "code",
      "execution_count": null,
      "metadata": {
        "colab": {
          "base_uri": "https://localhost:8080/"
        },
        "id": "BBtQPsn4zMiQ",
        "outputId": "9d29beb8-2354-4f94-d435-cefb2f91d84b"
      },
      "outputs": [
        {
          "output_type": "stream",
          "name": "stdout",
          "text": [
            "[1] 1 2 3 4 5\n"
          ]
        }
      ],
      "source": [
        "x = c(1:5)\n",
        "print(x)"
      ]
    },
    {
      "cell_type": "code",
      "source": [
        "bool1 <- TRUE\n",
        "print(bool1)\n",
        "\n",
        "bool2 <- FALSE\n",
        "print(bool2)\n",
        "\n",
        "print(class(bool2))"
      ],
      "metadata": {
        "colab": {
          "base_uri": "https://localhost:8080/"
        },
        "id": "RFN_wOdBzp6t",
        "outputId": "120145f7-fda5-454c-c5c9-fab5f9c21024"
      },
      "execution_count": null,
      "outputs": [
        {
          "output_type": "stream",
          "name": "stdout",
          "text": [
            "[1] TRUE\n",
            "[1] FALSE\n",
            "[1] \"logical\"\n"
          ]
        }
      ]
    },
    {
      "cell_type": "code",
      "source": [
        "z = c(1,2,3,NA,4)\n",
        "print(z)\n",
        "print(is.na(z))"
      ],
      "metadata": {
        "colab": {
          "base_uri": "https://localhost:8080/"
        },
        "id": "IHnWeynI0DoS",
        "outputId": "d3d804e2-01c9-4ff1-8989-94d34ffc1d03"
      },
      "execution_count": null,
      "outputs": [
        {
          "output_type": "stream",
          "name": "stdout",
          "text": [
            "[1]  1  2  3 NA  4\n",
            "[1] FALSE FALSE FALSE  TRUE FALSE\n"
          ]
        }
      ]
    },
    {
      "cell_type": "code",
      "source": [
        "clean <- complete.cases(z)\n",
        "print(clean)\n",
        "print(z[clean])"
      ],
      "metadata": {
        "colab": {
          "base_uri": "https://localhost:8080/"
        },
        "id": "ap-BB0kF0VVS",
        "outputId": "4d50eedf-db99-472e-9c9e-c078a51f0e42"
      },
      "execution_count": null,
      "outputs": [
        {
          "output_type": "stream",
          "name": "stdout",
          "text": [
            "[1]  TRUE  TRUE  TRUE FALSE  TRUE\n",
            "[1] 1 2 3 4\n"
          ]
        }
      ]
    },
    {
      "cell_type": "code",
      "source": [
        "print(0/0)"
      ],
      "metadata": {
        "colab": {
          "base_uri": "https://localhost:8080/"
        },
        "id": "tptjMo-Y0t6h",
        "outputId": "caf5be5c-6c89-4687-bc4e-c088ec20b9b4"
      },
      "execution_count": null,
      "outputs": [
        {
          "output_type": "stream",
          "name": "stdout",
          "text": [
            "[1] NaN\n"
          ]
        }
      ]
    },
    {
      "cell_type": "code",
      "source": [
        "m <- c(2/3,3/3,0/0,1/0,0/1)\n",
        "print(is.finite(m))\n",
        "print(is.infinite(m))\n",
        "print(is.nan(m))"
      ],
      "metadata": {
        "colab": {
          "base_uri": "https://localhost:8080/"
        },
        "id": "Ye3Bbi_Z0woR",
        "outputId": "b6b8f3de-7574-4aa0-badb-1bc4f35a5b10"
      },
      "execution_count": null,
      "outputs": [
        {
          "output_type": "stream",
          "name": "stdout",
          "text": [
            "[1]  TRUE  TRUE FALSE FALSE  TRUE\n",
            "[1] FALSE FALSE FALSE  TRUE FALSE\n",
            "[1] FALSE FALSE  TRUE FALSE FALSE\n"
          ]
        }
      ]
    },
    {
      "cell_type": "code",
      "source": [
        "mat <- matrix(c(1,2,3,4,5,6), nrow = 2, ncol = 3)\n",
        "print(mat)"
      ],
      "metadata": {
        "colab": {
          "base_uri": "https://localhost:8080/"
        },
        "id": "sS-a7wMa1Qd_",
        "outputId": "37a4a298-a907-46f0-b963-9d14849d3bb4"
      },
      "execution_count": null,
      "outputs": [
        {
          "output_type": "stream",
          "name": "stdout",
          "text": [
            "     [,1] [,2] [,3]\n",
            "[1,]    1    3    5\n",
            "[2,]    2    4    6\n"
          ]
        }
      ]
    },
    {
      "cell_type": "code",
      "source": [
        "print(t(mat))"
      ],
      "metadata": {
        "colab": {
          "base_uri": "https://localhost:8080/"
        },
        "id": "Eh2djpHs1d9E",
        "outputId": "e20e163b-cc4d-448f-e11a-fc169f4e18a1"
      },
      "execution_count": null,
      "outputs": [
        {
          "output_type": "stream",
          "name": "stdout",
          "text": [
            "     [,1] [,2]\n",
            "[1,]    1    2\n",
            "[2,]    3    4\n",
            "[3,]    5    6\n"
          ]
        }
      ]
    },
    {
      "cell_type": "code",
      "source": [
        "print(diag(3))"
      ],
      "metadata": {
        "colab": {
          "base_uri": "https://localhost:8080/"
        },
        "id": "dG1tTUuF1wA8",
        "outputId": "82f91535-1e8a-4039-a975-fdf052440c78"
      },
      "execution_count": null,
      "outputs": [
        {
          "output_type": "stream",
          "name": "stdout",
          "text": [
            "     [,1] [,2] [,3]\n",
            "[1,]    1    0    0\n",
            "[2,]    0    1    0\n",
            "[3,]    0    0    1\n"
          ]
        }
      ]
    },
    {
      "cell_type": "code",
      "source": [
        "zro <- matrix(rep(0,6),nrow = 2, ncol = 3)\n",
        "print(zro)"
      ],
      "metadata": {
        "colab": {
          "base_uri": "https://localhost:8080/"
        },
        "id": "Ojbgl2jT16re",
        "outputId": "d8f000d3-c6f6-42a0-f211-9b80663ca6d3"
      },
      "execution_count": null,
      "outputs": [
        {
          "output_type": "stream",
          "name": "stdout",
          "text": [
            "     [,1] [,2] [,3]\n",
            "[1,]    0    0    0\n",
            "[2,]    0    0    0\n"
          ]
        }
      ]
    },
    {
      "cell_type": "code",
      "source": [
        "zro[2,3] = 9\n",
        "print(zro)"
      ],
      "metadata": {
        "colab": {
          "base_uri": "https://localhost:8080/"
        },
        "id": "ZofaaFUy2Q1g",
        "outputId": "e9015ab2-cc16-40be-9fb0-79f8ae8453f1"
      },
      "execution_count": null,
      "outputs": [
        {
          "output_type": "stream",
          "name": "stdout",
          "text": [
            "     [,1] [,2] [,3]\n",
            "[1,]    0    0    0\n",
            "[2,]    0    0    9\n"
          ]
        }
      ]
    },
    {
      "cell_type": "code",
      "source": [
        "print(mat)\n",
        "print(\"Select 2nd row\")\n",
        "print(mat[2,])\n",
        "print(\"Select 3rd column\")\n",
        "print(mat[,3])"
      ],
      "metadata": {
        "colab": {
          "base_uri": "https://localhost:8080/"
        },
        "id": "lCbPX4qq2ZY3",
        "outputId": "ac16205a-43ab-4163-c1e3-edcdaac83663"
      },
      "execution_count": null,
      "outputs": [
        {
          "output_type": "stream",
          "name": "stdout",
          "text": [
            "     [,1] [,2] [,3]\n",
            "[1,]    1    3    5\n",
            "[2,]    2    4    6\n",
            "[1] \"Select 2nd row\"\n",
            "[1] 2 4 6\n",
            "[1] \"Select 3rd column\"\n",
            "[1] 5 6\n"
          ]
        }
      ]
    },
    {
      "cell_type": "code",
      "source": [
        "matrix1 <- matrix(c(10,20,30,40,50,60,70,80,90),nrow = 3, ncol = 3)\n",
        "print(matrix1)"
      ],
      "metadata": {
        "colab": {
          "base_uri": "https://localhost:8080/"
        },
        "id": "0VYI8sEB3GQp",
        "outputId": "b25b57f0-792f-4e4d-d356-aace2ea00de1"
      },
      "execution_count": null,
      "outputs": [
        {
          "output_type": "stream",
          "name": "stdout",
          "text": [
            "     [,1] [,2] [,3]\n",
            "[1,]   10   40   70\n",
            "[2,]   20   50   80\n",
            "[3,]   30   60   90\n"
          ]
        }
      ]
    },
    {
      "cell_type": "code",
      "source": [
        "print(matrix1[c(1,3),])"
      ],
      "metadata": {
        "colab": {
          "base_uri": "https://localhost:8080/"
        },
        "id": "CfvsaOZz3XVs",
        "outputId": "5ac7697a-73a3-4b1b-ecaf-e453418b93c0"
      },
      "execution_count": null,
      "outputs": [
        {
          "output_type": "stream",
          "name": "stdout",
          "text": [
            "     [,1] [,2] [,3]\n",
            "[1,]   10   40   70\n",
            "[2,]   30   60   90\n"
          ]
        }
      ]
    },
    {
      "cell_type": "code",
      "source": [
        "matrix2 <- matrix1[,c(3,2,1)]"
      ],
      "metadata": {
        "id": "UCZtrAKR4B56"
      },
      "execution_count": null,
      "outputs": []
    },
    {
      "cell_type": "code",
      "source": [
        "print(matrix2)"
      ],
      "metadata": {
        "id": "g2cbSCoN4NDX",
        "outputId": "ee72b29c-061f-4a05-cb5b-2490d168017b",
        "colab": {
          "base_uri": "https://localhost:8080/"
        }
      },
      "execution_count": null,
      "outputs": [
        {
          "output_type": "stream",
          "name": "stdout",
          "text": [
            "     [,1] [,2] [,3]\n",
            "[1,]   70   40   10\n",
            "[2,]   80   50   20\n",
            "[3,]   90   60   30\n"
          ]
        }
      ]
    }
  ]
}